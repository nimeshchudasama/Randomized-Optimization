{
 "cells": [
  {
   "cell_type": "code",
   "execution_count": 1,
   "metadata": {},
   "outputs": [],
   "source": [
    "import mlrose_hiive\n",
    "import numpy as np\n",
    "import pandas as pd\n",
    "import matplotlib.pyplot as plt"
   ]
  },
  {
   "cell_type": "markdown",
   "metadata": {},
   "source": [
    "# Max K-color"
   ]
  },
  {
   "cell_type": "code",
   "execution_count": 2,
   "metadata": {},
   "outputs": [],
   "source": [
    "problem = mlrose_hiive.MaxKColorGenerator().generate(seed=42)"
   ]
  },
  {
   "cell_type": "code",
   "execution_count": 59,
   "metadata": {},
   "outputs": [],
   "source": [
    "sa = mlrose_hiive.SARunner(problem = problem,\n",
    "                          experiment_name = \"SA Queen\",\n",
    "                           output_directory = \"/Users/nimesh/Desktop/\",\n",
    "                          temperature_list=[50,100,150,200,250],\n",
    "                          decay_list=[mlrose_hiive.ExpDecay],\n",
    "                          max_attempts=1000,\n",
    "                          iteration_list=[1,2,4,8,16,32,64,128,256,512,1024,2048,4096],\n",
    "                          seed =42)\n",
    "MaxKColorSAstats, MaxKColorSACurves = sa.run()\n",
    "\n",
    "ga = mlrose_hiive.GARunner(problem = problem,\n",
    "                          experiment_name = \"GA Queen\",\n",
    "                          seed = 42,\n",
    "                          iteration_list = [1,2,4,8,16,32,64,128,256,512,1024,2048,4096],\n",
    "                          population_sizes =[100,200,300],\n",
    "                          mutation_rates = [.1,.15,.2])\n",
    "MaxKColorGAQstats, MaxKColorGACurves = ga.run()\n",
    "\n",
    "rhc = mlrose_hiive.RHCRunner(problem = problem,\n",
    "                            experiment_name = \"RHC Queen\",\n",
    "                            seed = 42,\n",
    "                            iteration_list = [1,2,4,8,16,32,64,128,256,512,1024,2048,4096],\n",
    "                            restart_list = [0,1,2,3,4,5],\n",
    "                            max_attempts = 1000)\n",
    "MaxKColorRHCstats, MaxKColorRHCCurves = rhc.run()\n",
    "\n",
    "mimic = mlrose_hiive.MIMICRunner(problem = problem,\n",
    "                                experiment_name = \"MIMIC Queen\",\n",
    "                                seed =42,\n",
    "                                iteration_list = [1,2,4,8,16,32,64,128,256,512,1024,2048,4096],\n",
    "                                population_sizes = [100,200,300],\n",
    "                                keep_percent_list = [.2],\n",
    "                                max_attempts = 1000)\n",
    "MaxKColorMIMICstats, MaxKColorMIMICCurves = mimic.run()"
   ]
  },
  {
   "cell_type": "code",
   "execution_count": 110,
   "metadata": {
    "scrolled": true
   },
   "outputs": [
    {
     "data": {
      "text/html": [
       "<div>\n",
       "<style scoped>\n",
       "    .dataframe tbody tr th:only-of-type {\n",
       "        vertical-align: middle;\n",
       "    }\n",
       "\n",
       "    .dataframe tbody tr th {\n",
       "        vertical-align: top;\n",
       "    }\n",
       "\n",
       "    .dataframe thead th {\n",
       "        text-align: right;\n",
       "    }\n",
       "</style>\n",
       "<table border=\"1\" class=\"dataframe\">\n",
       "  <thead>\n",
       "    <tr style=\"text-align: right;\">\n",
       "      <th></th>\n",
       "      <th>Iteration</th>\n",
       "      <th>Time</th>\n",
       "      <th>Fitness</th>\n",
       "      <th>Temperature</th>\n",
       "      <th>max_iters</th>\n",
       "      <th>FEvals</th>\n",
       "    </tr>\n",
       "  </thead>\n",
       "  <tbody>\n",
       "    <tr>\n",
       "      <th>0</th>\n",
       "      <td>0</td>\n",
       "      <td>0.006243</td>\n",
       "      <td>21.0</td>\n",
       "      <td>50</td>\n",
       "      <td>4096</td>\n",
       "      <td>0</td>\n",
       "    </tr>\n",
       "    <tr>\n",
       "      <th>1</th>\n",
       "      <td>1</td>\n",
       "      <td>0.023403</td>\n",
       "      <td>22.0</td>\n",
       "      <td>50</td>\n",
       "      <td>4096</td>\n",
       "      <td>2</td>\n",
       "    </tr>\n",
       "    <tr>\n",
       "      <th>2</th>\n",
       "      <td>2</td>\n",
       "      <td>0.029687</td>\n",
       "      <td>22.0</td>\n",
       "      <td>50</td>\n",
       "      <td>4096</td>\n",
       "      <td>4</td>\n",
       "    </tr>\n",
       "    <tr>\n",
       "      <th>3</th>\n",
       "      <td>3</td>\n",
       "      <td>0.036283</td>\n",
       "      <td>21.0</td>\n",
       "      <td>50</td>\n",
       "      <td>4096</td>\n",
       "      <td>8</td>\n",
       "    </tr>\n",
       "    <tr>\n",
       "      <th>4</th>\n",
       "      <td>4</td>\n",
       "      <td>0.037604</td>\n",
       "      <td>19.0</td>\n",
       "      <td>50</td>\n",
       "      <td>4096</td>\n",
       "      <td>8</td>\n",
       "    </tr>\n",
       "    <tr>\n",
       "      <th>...</th>\n",
       "      <td>...</td>\n",
       "      <td>...</td>\n",
       "      <td>...</td>\n",
       "      <td>...</td>\n",
       "      <td>...</td>\n",
       "      <td>...</td>\n",
       "    </tr>\n",
       "    <tr>\n",
       "      <th>18908</th>\n",
       "      <td>4092</td>\n",
       "      <td>3.886286</td>\n",
       "      <td>1.0</td>\n",
       "      <td>250</td>\n",
       "      <td>4096</td>\n",
       "      <td>5297</td>\n",
       "    </tr>\n",
       "    <tr>\n",
       "      <th>18909</th>\n",
       "      <td>4093</td>\n",
       "      <td>3.887265</td>\n",
       "      <td>1.0</td>\n",
       "      <td>250</td>\n",
       "      <td>4096</td>\n",
       "      <td>5297</td>\n",
       "    </tr>\n",
       "    <tr>\n",
       "      <th>18910</th>\n",
       "      <td>4094</td>\n",
       "      <td>3.888180</td>\n",
       "      <td>1.0</td>\n",
       "      <td>250</td>\n",
       "      <td>4096</td>\n",
       "      <td>5297</td>\n",
       "    </tr>\n",
       "    <tr>\n",
       "      <th>18911</th>\n",
       "      <td>4095</td>\n",
       "      <td>3.889166</td>\n",
       "      <td>1.0</td>\n",
       "      <td>250</td>\n",
       "      <td>4096</td>\n",
       "      <td>5297</td>\n",
       "    </tr>\n",
       "    <tr>\n",
       "      <th>18912</th>\n",
       "      <td>4096</td>\n",
       "      <td>3.890100</td>\n",
       "      <td>1.0</td>\n",
       "      <td>250</td>\n",
       "      <td>4096</td>\n",
       "      <td>5297</td>\n",
       "    </tr>\n",
       "  </tbody>\n",
       "</table>\n",
       "<p>18913 rows × 6 columns</p>\n",
       "</div>"
      ],
      "text/plain": [
       "       Iteration      Time  Fitness Temperature  max_iters  FEvals\n",
       "0              0  0.006243     21.0          50       4096       0\n",
       "1              1  0.023403     22.0          50       4096       2\n",
       "2              2  0.029687     22.0          50       4096       4\n",
       "3              3  0.036283     21.0          50       4096       8\n",
       "4              4  0.037604     19.0          50       4096       8\n",
       "...          ...       ...      ...         ...        ...     ...\n",
       "18908       4092  3.886286      1.0         250       4096    5297\n",
       "18909       4093  3.887265      1.0         250       4096    5297\n",
       "18910       4094  3.888180      1.0         250       4096    5297\n",
       "18911       4095  3.889166      1.0         250       4096    5297\n",
       "18912       4096  3.890100      1.0         250       4096    5297\n",
       "\n",
       "[18913 rows x 6 columns]"
      ]
     },
     "execution_count": 110,
     "metadata": {},
     "output_type": "execute_result"
    }
   ],
   "source": [
    "MaxKColorSACurves"
   ]
  },
  {
   "cell_type": "code",
   "execution_count": 103,
   "metadata": {},
   "outputs": [
    {
     "data": {
      "text/plain": [
       "<matplotlib.legend.Legend at 0x129f67dc0>"
      ]
     },
     "execution_count": 103,
     "metadata": {},
     "output_type": "execute_result"
    },
    {
     "data": {
      "image/png": "[encoded data removed]",
      "text/plain": [
       "<Figure size 432x288 with 1 Axes>"
      ]
     },
     "metadata": {
      "needs_background": "light"
     },
     "output_type": "display_data"
    }
   ],
   "source": [
    "plt.plot(MaxKColorSAstats[0:14]['Iteration'],MaxKColorSAstats[0:14]['Fitness'],label = 'SA')\n",
    "plt.plot(MaxKColorGAQstats[0:14]['Iteration'],MaxKColorGAQstats[0:14]['Fitness'],label = 'GA')\n",
    "plt.plot(MaxKColorRHCstats[0:14]['Iteration'],MaxKColorRHCstats[0:14]['Fitness'],label = 'RHC')\n",
    "plt.plot(MaxKColorMIMICstats[0:14]['Iteration'],MaxKColorMIMICstats[0:14]['Fitness'],label = 'MIMIC')\n",
    "plt.legend(loc='upper right', bbox_to_anchor=(.35, 0.2))"
   ]
  },
  {
   "cell_type": "code",
   "execution_count": 106,
   "metadata": {},
   "outputs": [
    {
     "data": {
      "text/plain": [
       "<matplotlib.legend.Legend at 0x12ac9cd30>"
      ]
     },
     "execution_count": 106,
     "metadata": {},
     "output_type": "execute_result"
    },
    {
     "data": {
      "image/png": "[encoded data removed]",
      "text/plain": [
       "<Figure size 432x288 with 1 Axes>"
      ]
     },
     "metadata": {
      "needs_background": "light"
     },
     "output_type": "display_data"
    }
   ],
   "source": [
    "plt.plot(MaxKColorSAstats[0:14]['Iteration'],MaxKColorSAstats[0:14]['Time'],label = 'SA')\n",
    "plt.plot(MaxKColorGAQstats[0:14]['Iteration'],MaxKColorGAQstats[0:14]['Time'],label = 'GA')\n",
    "plt.plot(MaxKColorRHCstats[0:14]['Iteration'],MaxKColorRHCstats[0:14]['Time'],label = 'RHC')\n",
    "plt.plot(MaxKColorMIMICstats[0:14]['Iteration'],MaxKColorMIMICstats[0:14]['Time'],label = 'MIMIC')\n",
    "plt.legend(loc='upper right', bbox_to_anchor=(.35, 0.2))"
   ]
  },
  {
   "cell_type": "code",
   "execution_count": null,
   "metadata": {},
   "outputs": [],
   "source": []
  },
  {
   "cell_type": "markdown",
   "metadata": {},
   "source": [
    "# Knapsack"
   ]
  },
  {
   "cell_type": "code",
   "execution_count": 8,
   "metadata": {},
   "outputs": [],
   "source": [
    "problem = mlrose_hiive.KnapsackGenerator().generate(seed=42)"
   ]
  },
  {
   "cell_type": "code",
   "execution_count": 9,
   "metadata": {},
   "outputs": [],
   "source": [
    "sa = mlrose_hiive.SARunner(problem = problem,\n",
    "                          experiment_name = \"SA Queen\",\n",
    "                          temperature_list=[50,100,150,200,250],\n",
    "                          decay_list=[mlrose_hiive.ExpDecay],\n",
    "                          max_attempts=1000,\n",
    "                          iteration_list=[1,2,4,8,16,32,64,128,256,512,1024,2048,4096],\n",
    "                          seed =42)\n",
    "KnapsackSAstats, KnapsackSACurves = sa.run()\n",
    "\n",
    "ga = mlrose_hiive.GARunner(problem = problem,\n",
    "                          experiment_name = \"GA Queen\",\n",
    "                          seed = 42,\n",
    "                          iteration_list = [1,2,4,8,16,32,64,128,256,512,1024,2048,4096],\n",
    "                          population_sizes =[100,200,300],\n",
    "                          mutation_rates = [.1,.15,.2])\n",
    "KnapsackGAQstats, KnapsackGACurves = ga.run()\n",
    "\n",
    "rhc = mlrose_hiive.RHCRunner(problem = problem,\n",
    "                            experiment_name = \"RHC Queen\",\n",
    "                            seed = 42,\n",
    "                            iteration_list = [1,2,4,8,16,32,64,128,256,512,1024,2048,4096],\n",
    "                            restart_list = [0,1,2,3,4,5],\n",
    "                            max_attempts = 1000)\n",
    "KnapsackRHCstats, KnapsackRHCCurves = rhc.run()\n",
    "\n",
    "mimic = mlrose_hiive.MIMICRunner(problem = problem,\n",
    "                                experiment_name = \"MIMIC Queen\",\n",
    "                                seed =42,\n",
    "                                iteration_list = [1,2,4,8,16,32,64,128,256,512,1024,2048,4096],\n",
    "                                population_sizes = [100,200,300],\n",
    "                                keep_percent_list = [.2],\n",
    "                                max_attempts = 1000)\n",
    "KnapsackMIMICstats, KnapsackMIMICCurves = mimic.run()"
   ]
  },
  {
   "cell_type": "code",
   "execution_count": 104,
   "metadata": {},
   "outputs": [
    {
     "data": {
      "text/plain": [
       "<matplotlib.legend.Legend at 0x12aa21f40>"
      ]
     },
     "execution_count": 104,
     "metadata": {},
     "output_type": "execute_result"
    },
    {
     "data": {
      "image/png": "[encoded data removed]",
      "text/plain": [
       "<Figure size 432x288 with 1 Axes>"
      ]
     },
     "metadata": {
      "needs_background": "light"
     },
     "output_type": "display_data"
    }
   ],
   "source": [
    "plt.plot(KnapsackSAstats[0:14]['Iteration'],KnapsackSAstats[0:14]['Fitness'],label = 'SA')\n",
    "plt.plot(KnapsackGAQstats[0:14]['Iteration'],KnapsackGAQstats[0:14]['Fitness'],label = 'GA')\n",
    "plt.plot(KnapsackRHCstats[0:14]['Iteration'],KnapsackRHCstats[0:14]['Fitness'],label = 'RHC')\n",
    "plt.plot(KnapsackMIMICstats[0:14]['Iteration'],KnapsackMIMICstats[0:14]['Fitness'],label = 'MIMIC')\n",
    "plt.legend(loc='upper right', bbox_to_anchor=(.35, 0.2))"
   ]
  },
  {
   "cell_type": "code",
   "execution_count": 113,
   "metadata": {},
   "outputs": [
    {
     "data": {
      "text/plain": [
       "<matplotlib.legend.Legend at 0x1299d5b80>"
      ]
     },
     "execution_count": 113,
     "metadata": {},
     "output_type": "execute_result"
    },
    {
     "data": {
      "image/png": "[encoded data removed]",
      "text/plain": [
       "<Figure size 432x288 with 1 Axes>"
      ]
     },
     "metadata": {
      "needs_background": "light"
     },
     "output_type": "display_data"
    }
   ],
   "source": [
    "plt.plot(KnapsackSAstats[0:14]['Iteration'],KnapsackSAstats[0:14]['Time'],label = 'SA')\n",
    "plt.plot(KnapsackGAQstats[0:14]['Iteration'],KnapsackGAQstats[0:14]['Time'],label = 'GA')\n",
    "plt.plot(KnapsackRHCstats[0:14]['Iteration'],KnapsackRHCstats[0:14]['Time'],label = 'RHC')\n",
    "plt.plot(KnapsackMIMICstats[0:14]['Iteration'],KnapsackMIMICstats[0:14]['Time'],label = 'MIMIC')\n",
    "plt.legend(loc='upper right', bbox_to_anchor=(.35, 0.2))"
   ]
  },
  {
   "cell_type": "markdown",
   "metadata": {},
   "source": [
    "# 8 Queens"
   ]
  },
  {
   "cell_type": "code",
   "execution_count": 12,
   "metadata": {},
   "outputs": [],
   "source": [
    "problem = mlrose_hiive.QueensGenerator().generate(seed=42)"
   ]
  },
  {
   "cell_type": "code",
   "execution_count": 13,
   "metadata": {},
   "outputs": [],
   "source": [
    "sa = mlrose_hiive.SARunner(problem = problem,\n",
    "                          experiment_name = \"SA Queen\",\n",
    "                          temperature_list=[50,100,150,200,250],\n",
    "                          decay_list=[mlrose_hiive.ExpDecay],\n",
    "                          max_attempts=1000,\n",
    "                          iteration_list=[1,2,4,8,16,32,64,128,256,512,1024,2048,4096],\n",
    "                          seed =42)\n",
    "QueenSAstats, QueenSACurves = sa.run()\n",
    "\n",
    "ga = mlrose_hiive.GARunner(problem = problem,\n",
    "                          experiment_name = \"GA Queen\",\n",
    "                          seed = 42,\n",
    "                          iteration_list = [1,2,4,8,16,32,64,128,256,512,1024,2048,4096],\n",
    "                          population_sizes =[100,200,300],\n",
    "                          mutation_rates = [.1,.15,.2])\n",
    "QueenGAQstats, QueenGACurves = ga.run()\n",
    "\n",
    "rhc = mlrose_hiive.RHCRunner(problem = problem,\n",
    "                            experiment_name = \"RHC Queen\",\n",
    "                            seed = 42,\n",
    "                            iteration_list = [1,2,4,8,16,32,64,128,256,512,1024,2048,4096],\n",
    "                            restart_list = [0,1,2,3,4,5],\n",
    "                            max_attempts = 1000)\n",
    "QueenRHCstats, QueenRHCCurves = rhc.run()\n",
    "\n",
    "mimic = mlrose_hiive.MIMICRunner(problem = problem,\n",
    "                                experiment_name = \"MIMIC Queen\",\n",
    "                                seed =42,\n",
    "                                iteration_list = [1,2,4,8,16,32,64,128,256,512,1024,2048,4096],\n",
    "                                population_sizes = [100,200,300],\n",
    "                                keep_percent_list = [.2],\n",
    "                                max_attempts = 1000)\n",
    "QueenMIMICstats, QueenMIMICCurves = mimic.run()"
   ]
  },
  {
   "cell_type": "code",
   "execution_count": 105,
   "metadata": {},
   "outputs": [
    {
     "data": {
      "text/plain": [
       "<matplotlib.legend.Legend at 0x1297fb550>"
      ]
     },
     "execution_count": 105,
     "metadata": {},
     "output_type": "execute_result"
    },
    {
     "data": {
      "image/png": "[encoded data removed]",
      "text/plain": [
       "<Figure size 432x288 with 1 Axes>"
      ]
     },
     "metadata": {
      "needs_background": "light"
     },
     "output_type": "display_data"
    }
   ],
   "source": [
    "plt.plot(QueenSAstats[0:14]['Iteration'],QueenSAstats[0:14]['Fitness'],label = 'SA')\n",
    "plt.plot(QueenGAQstats[0:14]['Iteration'],QueenGAQstats[0:14]['Fitness'],label = 'GA')\n",
    "plt.plot(QueenRHCstats[0:14]['Iteration'],QueenRHCstats[0:14]['Fitness'],label = 'RHC')\n",
    "plt.plot(QueenMIMICstats[0:14]['Iteration'],QueenMIMICstats[0:14]['Fitness'],label = 'MIMIC')\n",
    "plt.legend(loc='upper right', bbox_to_anchor=(.35, 0.2))"
   ]
  },
  {
   "cell_type": "code",
   "execution_count": 114,
   "metadata": {},
   "outputs": [
    {
     "data": {
      "text/plain": [
       "<matplotlib.legend.Legend at 0x12866f8b0>"
      ]
     },
     "execution_count": 114,
     "metadata": {},
     "output_type": "execute_result"
    },
    {
     "data": {
      "image/png": "[encoded data removed]",
      "text/plain": [
       "<Figure size 432x288 with 1 Axes>"
      ]
     },
     "metadata": {
      "needs_background": "light"
     },
     "output_type": "display_data"
    }
   ],
   "source": [
    "plt.plot(QueenSAstats[0:14]['Iteration'],QueenSAstats[0:14]['Time'],label = 'SA')\n",
    "plt.plot(QueenGAQstats[0:14]['Iteration'],QueenGAQstats[0:14]['Time'],label = 'GA')\n",
    "plt.plot(QueenRHCstats[0:14]['Iteration'],QueenRHCstats[0:14]['Time'],label = 'RHC')\n",
    "plt.plot(QueenMIMICstats[0:14]['Iteration'],QueenMIMICstats[0:14]['Time'],label = 'MIMIC')\n",
    "plt.legend(loc='upper right', bbox_to_anchor=(.35, 0.2))"
   ]
  },
  {
   "cell_type": "markdown",
   "metadata": {},
   "source": [
    "# Neural Networks"
   ]
  },
  {
   "cell_type": "code",
   "execution_count": 115,
   "metadata": {},
   "outputs": [],
   "source": [
    "#Load the data\n",
    "from sklearn.model_selection import train_test_split\n",
    "df = pd.read_csv('divorce.csv',sep = ';')\n",
    "train, test = train_test_split(df,test_size = .3, random_state=42)\n",
    "\n",
    "xtrain = train.drop(['Class'], axis=1)\n",
    "ytrain = train[\"Class\"]\n",
    "\n",
    "xtest = test.drop(['Class'], axis=1)\n",
    "ytest = test[\"Class\"]"
   ]
  },
  {
   "cell_type": "code",
   "execution_count": 116,
   "metadata": {},
   "outputs": [
    {
     "name": "stdout",
     "output_type": "stream",
     "text": [
      "Fitting 5 folds for each of 1 candidates, totalling 5 fits\n"
     ]
    }
   ],
   "source": [
    "params = {\n",
    "    'max_iters': [1000],                          # nn params\n",
    "    'learning_rate': [1e-2],                       # nn params\n",
    "    'activation': [mlrose_hiive.relu],            # nn params\n",
    "    'restarts': [1],                             # rhc params\n",
    "}\n",
    "\n",
    "RHCNN = mlrose_hiive.NNGSRunner(\n",
    "x_train=xtrain,\n",
    "y_train=ytrain,\n",
    "x_test = xtest,\n",
    "y_test = ytest,\n",
    "experiment_name = \"NN Test\",\n",
    "algorithm = mlrose_hiive.algorithms.rhc.random_hill_climb,\n",
    "grid_search_parameters=params,\n",
    "iteration_list=[1,2,4,8,16,32,64,128,256,512,1024,2048,4096],\n",
    "hidden_layer_sizes=[[30]],\n",
    "bias=True,\n",
    "early_stopping=True,\n",
    "clip_max=5,\n",
    "max_attempts=500,\n",
    "n_jobs=5,\n",
    "seed=42,\n",
    "output_directory=None)\n",
    "\n",
    "RHCStats, RHCCurve, RHC_cv_results_df, RHC_grid_search_cv = RHCNN.run()"
   ]
  },
  {
   "cell_type": "code",
   "execution_count": 117,
   "metadata": {},
   "outputs": [
    {
     "name": "stdout",
     "output_type": "stream",
     "text": [
      "Fitting 5 folds for each of 1 candidates, totalling 5 fits\n"
     ]
    }
   ],
   "source": [
    "params = {\n",
    "    'max_iters': [1000],                          # nn params\n",
    "    'learning_rate': [1e-2],                       # nn params\n",
    "    'activation': [mlrose_hiive.relu]                          # rhc params\n",
    "}\n",
    "\n",
    "SANN = mlrose_hiive.NNGSRunner(\n",
    "x_train=xtrain,\n",
    "y_train=ytrain,\n",
    "x_test = xtest,\n",
    "y_test = ytest,\n",
    "experiment_name = \"NN Test\",\n",
    "algorithm = mlrose_hiive.algorithms.sa.simulated_annealing,\n",
    "grid_search_parameters=params,\n",
    "iteration_list=[1,2,4,8,16,32,64,128,256,512,1024,2048,4096],\n",
    "hidden_layer_sizes=[[30]],\n",
    "bias=True,\n",
    "early_stopping=True,\n",
    "clip_max=5,\n",
    "max_attempts=500,\n",
    "n_jobs=5,\n",
    "seed=42,\n",
    "output_directory=None)\n",
    "\n",
    "SAStats, SACurve, SA_cv_results_df, SA_grid_search_cv = SANN.run()"
   ]
  },
  {
   "cell_type": "code",
   "execution_count": 118,
   "metadata": {
    "scrolled": true
   },
   "outputs": [
    {
     "name": "stdout",
     "output_type": "stream",
     "text": [
      "Fitting 5 folds for each of 1 candidates, totalling 5 fits\n"
     ]
    }
   ],
   "source": [
    "params = {\n",
    "    'max_iters': [1000],                          # nn params\n",
    "    'learning_rate': [1e-2],                       # nn params\n",
    "    'activation': [mlrose_hiive.relu]                          # rhc params\n",
    "}\n",
    "\n",
    "GA = mlrose_hiive.NNGSRunner(\n",
    "x_train=xtrain,\n",
    "y_train=ytrain,\n",
    "x_test = xtest,\n",
    "y_test = ytest,\n",
    "experiment_name = \"NN Test\",\n",
    "algorithm = mlrose_hiive.algorithms.ga.genetic_alg,\n",
    "grid_search_parameters=params,\n",
    "iteration_list=[1,2,4,8,16,32,64,128,256,512,1024,2048,4096],\n",
    "hidden_layer_sizes=[[30]],\n",
    "bias=True,\n",
    "early_stopping=True,\n",
    "clip_max=5,\n",
    "max_attempts=500,\n",
    "n_jobs=5,\n",
    "seed=42,\n",
    "output_directory=None)\n",
    "\n",
    "GAStats, GACurve, GA_cv_results_df, GA_grid_search_cv = GA.run()"
   ]
  },
  {
   "cell_type": "code",
   "execution_count": 121,
   "metadata": {},
   "outputs": [
    {
     "data": {
      "text/plain": [
       "0    0.527946\n",
       "Name: mean_test_score, dtype: float64"
      ]
     },
     "execution_count": 121,
     "metadata": {},
     "output_type": "execute_result"
    }
   ],
   "source": [
    "SA_cv_results_df['mean_test_score']"
   ]
  },
  {
   "cell_type": "code",
   "execution_count": 125,
   "metadata": {},
   "outputs": [
    {
     "data": {
      "text/plain": [
       "<BarContainer object of 3 artists>"
      ]
     },
     "execution_count": 125,
     "metadata": {},
     "output_type": "execute_result"
    },
    {
     "data": {
      "image/png": "[encoded data removed]",
      "text/plain": [
       "<Figure size 432x288 with 1 Axes>"
      ]
     },
     "metadata": {
      "needs_background": "light"
     },
     "output_type": "display_data"
    }
   ],
   "source": [
    "plt.bar(['RHC', 'SA', 'GA'], [RHC_cv_results_df['mean_test_score'][0],SA_cv_results_df['mean_test_score'][0],GA_cv_results_df['mean_test_score'][0]])"
   ]
  },
  {
   "cell_type": "code",
   "execution_count": 126,
   "metadata": {},
   "outputs": [
    {
     "data": {
      "text/plain": [
       "<BarContainer object of 3 artists>"
      ]
     },
     "execution_count": 126,
     "metadata": {},
     "output_type": "execute_result"
    },
    {
     "data": {
      "image/png": "[encoded data removed]",
      "text/plain": [
       "<Figure size 432x288 with 1 Axes>"
      ]
     },
     "metadata": {
      "needs_background": "light"
     },
     "output_type": "display_data"
    }
   ],
   "source": [
    "plt.bar(['RHC', 'SA', 'GA'], [RHC_cv_results_df['mean_train_score'][0],SA_cv_results_df['mean_train_score'][0],GA_cv_results_df['mean_train_score'][0]])"
   ]
  },
  {
   "cell_type": "code",
   "execution_count": null,
   "metadata": {},
   "outputs": [],
   "source": []
  }
 ],
 "metadata": {
  "kernelspec": {
   "display_name": "Python 3",
   "language": "python",
   "name": "python3"
  },
  "language_info": {
   "codemirror_mode": {
    "name": "ipython",
    "version": 3
   },
   "file_extension": ".py",
   "mimetype": "text/x-python",
   "name": "python",
   "nbconvert_exporter": "python",
   "pygments_lexer": "ipython3",
   "version": "3.8.5"
  }
 },
 "nbformat": 4,
 "nbformat_minor": 4
}
